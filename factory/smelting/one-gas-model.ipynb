{
 "cells": [
  {
   "cell_type": "code",
   "execution_count": 1,
   "metadata": {},
   "outputs": [],
   "source": [
    "import plotly.graph_objs as go\n",
    "import numpy as np\n",
    "from ipywidgets import interact"
   ]
  },
  {
   "cell_type": "code",
   "execution_count": 32,
   "metadata": {},
   "outputs": [],
   "source": [
    "def f(x, y):\n",
    "    return x + y\n",
    "\n",
    "R = 8.314\n",
    "N = 11\n",
    "\n",
    "pMin, pMax = 0, 60000\n",
    "tC, tH = 300, 2300\n",
    "\n",
    "vF = 1000\n",
    "\n",
    "pF0 = 6000\n",
    "tF0 = 600\n",
    "pT0 = 7000\n",
    "tT0 = 800\n",
    "\n",
    "def moles(p, v, t):\n",
    "    return (p*v)/(R*t)\n",
    "\n",
    "def calculateSurface(pF, tF, pT, tT):\n",
    "    nF = moles(pF, vF, tF)\n",
    "    nT = moles(pT, vF, tT)\n",
    "    \n",
    "    nR = np.linspace(0, nF, N)\n",
    "    tI = np.linspace(tC, tH, N)\n",
    "    nR, tI = np.meshgrid(nR, tI)\n",
    "    nI = (tT*nT-tF*(nF-nR))/tI\n",
    "    \n",
    "    return nR[0,:], tI[:,0], nI\n",
    "\n",
    "# data = [go.Surface(x=x, y=y, z=z, opacity=0.5, showscale=False)]\n",
    "# data = go.Surface(x=x, y=y, z=z, opacity=0.5, showscale=False)"
   ]
  },
  {
   "cell_type": "code",
   "execution_count": 36,
   "metadata": {
    "scrolled": false
   },
   "outputs": [
    {
     "data": {
      "application/vnd.jupyter.widget-view+json": {
       "model_id": "d2ee6a8d0f8d4fe6b76fe76150fd9636",
       "version_major": 2,
       "version_minor": 0
      },
      "text/plain": [
       "FigureWidget({\n",
       "    'data': [{'opacity': 0.5, 'type': 'surface', 'uid': '6b5ef3cc-eb98-4972-ae98-39708e6976d3'}…"
      ]
     },
     "metadata": {},
     "output_type": "display_data"
    }
   ],
   "source": [
    "fig = go.FigureWidget()\n",
    "fig.add_surface(opacity=0.5)\n",
    "fig.update_layout(\n",
    "    height=600,\n",
    "    scene_aspectmode='cube',\n",
    "    scene = dict(\n",
    "        xaxis_title='nR',\n",
    "        yaxis_title='tI',\n",
    "        zaxis_title='nI'))\n",
    "surf = fig.data[0]\n",
    "\n",
    "fig"
   ]
  },
  {
   "cell_type": "code",
   "execution_count": 37,
   "metadata": {},
   "outputs": [
    {
     "data": {
      "application/vnd.jupyter.widget-view+json": {
       "model_id": "3258ed0d22024927a639ecfc7807c57d",
       "version_major": 2,
       "version_minor": 0
      },
      "text/plain": [
       "interactive(children=(IntSlider(value=6000, description='pF', max=60000, step=500), IntSlider(value=600, descr…"
      ]
     },
     "metadata": {},
     "output_type": "display_data"
    }
   ],
   "source": [
    "@interact(pF=(pMin, pMax, 500), tF=(tMin, tMax, 100), pT=(pMin, pMax, 500), tT=(tMin, tMax, 100))\n",
    "def update(pF=pF0, tF=tF0, pT=pT0, tT=tT0):\n",
    "# @interact(t=(1.0, 5.0, 0.5))\n",
    "# def update(t=1.0):\n",
    "    with fig.batch_update():\n",
    "        nR, tI, nI = calculateSurface(pF, tF, pT, tT)\n",
    "        surf.x = nR\n",
    "        surf.y = tI\n",
    "        surf.z = nI\n",
    "    #     print(surf)"
   ]
  }
 ],
 "metadata": {
  "celltoolbar": "Raw Cell Format",
  "kernelspec": {
   "display_name": "Python 3",
   "language": "python",
   "name": "python3"
  },
  "language_info": {
   "codemirror_mode": {
    "name": "ipython",
    "version": 3
   },
   "file_extension": ".py",
   "mimetype": "text/x-python",
   "name": "python",
   "nbconvert_exporter": "python",
   "pygments_lexer": "ipython3",
   "version": "3.8.6"
  }
 },
 "nbformat": 4,
 "nbformat_minor": 4
}
