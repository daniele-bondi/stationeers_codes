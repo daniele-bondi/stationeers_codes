{
 "cells": [
  {
   "cell_type": "code",
   "execution_count": 115,
   "metadata": {},
   "outputs": [],
   "source": [
    "import plotly.graph_objs as go\n",
    "import numpy as np\n",
    "from ipywidgets import interact, FloatSlider, Layout"
   ]
  },
  {
   "cell_type": "code",
   "execution_count": 116,
   "metadata": {},
   "outputs": [],
   "source": [
    "def f(x, y):\n",
    "    return x + y\n",
    "\n",
    "R = 8.314\n",
    "\n",
    "pMin, pMax = 0, 60000\n",
    "tC, tH = 300, 2300\n",
    "\n",
    "vF = 1000\n",
    "\n",
    "pF0 = 6000\n",
    "tF0 = 600\n",
    "pT0 = 8000\n",
    "tT0 = 700\n",
    "\n",
    "def moles(p, v, t):\n",
    "    return (p*v)/(R*t)\n",
    "\n",
    "def calculateSurface(pF, tF, pT, tT):\n",
    "    nF = moles(pF, vF, tF)\n",
    "    nT = moles(pT, vF, tT)\n",
    "    \n",
    "    nR = np.linspace(0, nF, N)\n",
    "    tI = np.linspace(tC, tH, N)\n",
    "    nR, tI = np.meshgrid(nR, tI)\n",
    "    nI = (tT*nT-tF*(nF-nR))/tI\n",
    "    \n",
    "    return nR[0,:], tI[:,0], nI\n",
    "\n",
    "def calculateEmbedding(pF, tF, pT, tT):\n",
    "    pass\n",
    "\n",
    "def mask(nF, nR, tI, nI):\n",
    "    return np.logical_or.reduce([\n",
    "        nR < 0,\n",
    "        nR > nF,\n",
    "        tI < tC,\n",
    "        tI > tH,\n",
    "        nI < 0\n",
    "    ])"
   ]
  },
  {
   "cell_type": "code",
   "execution_count": 166,
   "metadata": {
    "scrolled": false
   },
   "outputs": [
    {
     "data": {
      "application/vnd.jupyter.widget-view+json": {
       "model_id": "704610eb25ab47a6adf4047a0ec6ca88",
       "version_major": 2,
       "version_minor": 0
      },
      "text/plain": [
       "interactive(children=(FloatSlider(value=6000.0, description='pF', layout=Layout(margin='0 0 0 0', width='100%'…"
      ]
     },
     "metadata": {},
     "output_type": "display_data"
    },
    {
     "data": {
      "application/vnd.jupyter.widget-view+json": {
       "model_id": "84ff89cf8e804d1ab5e4cda4de6acec7",
       "version_major": 2,
       "version_minor": 0
      },
      "text/plain": [
       "FigureWidget({\n",
       "    'data': [{'opacity': 0.5,\n",
       "              'showscale': False,\n",
       "              'type': 'surface'…"
      ]
     },
     "metadata": {},
     "output_type": "display_data"
    }
   ],
   "source": [
    "fig = go.FigureWidget()\n",
    "camera = dict(\n",
    "    up=dict(x=0, y=0, z=1),\n",
    "    center=dict(x=0, y=0, z=0),\n",
    "    eye=dict(x=-1.7, y=1.7, z=0.5))\n",
    "fig.update_layout(\n",
    "    height=800,\n",
    "    scene_camera=camera,\n",
    "    scene_aspectmode='cube',\n",
    "    scene = dict(\n",
    "        xaxis = dict(title='Moles removed (nR)'),\n",
    "        yaxis = dict(title='Temperature added (tI)'),\n",
    "        zaxis = dict(title='Moles added (nI)')))\n",
    "\n",
    "fig.add_surface(opacity=0.5, showscale=False)\n",
    "fig.add_scatter3d(mode='lines', line=dict(color='black'), name='Embedding')\n",
    "fig.add_scatter3d(mode='markers', marker=dict(color='green'), name='nR=0')\n",
    "fig.add_scatter3d(mode='markers', marker=dict(color='red'), name='tI=tH')\n",
    "fig.add_scatter3d(mode='markers', marker=dict(color='blue'), name='tI=tC')\n",
    "\n",
    "S = fig.data[0]\n",
    "E = fig.data[1]\n",
    "A = fig.data[2]\n",
    "B = fig.data[3]\n",
    "C = fig.data[4]\n",
    "\n",
    "SN = 30\n",
    "EN = 200\n",
    "\n",
    "def point(handle, nR, tI, nI, pr=False):\n",
    "    nC = nI*(tI-tH)/(tC-tH)\n",
    "    nH = nI-nC\n",
    "    flag = nR >= 0 and nH >= 0 and nC >= 0\n",
    "    handle.x = [nR] if flag else []\n",
    "    handle.y = [tI] if flag else []\n",
    "    handle.z = [nI] if flag else []\n",
    "    if pr:\n",
    "        print(nR, tI, nI, nH, nC)\n",
    "\n",
    "def update(pF=tF0, tF=tF0, pT=pT0, tT=tT0):\n",
    "    with fig.batch_update():\n",
    "        nF = moles(pF, vF, tF)\n",
    "        nT = moles(pT, vF, tT)\n",
    "        fig.update_layout(\n",
    "            xaxis_range=[0, nF],\n",
    "            yaxis_range=[tC, tH])\n",
    "        # Surface\n",
    "        nR = np.linspace(0, nF, SN)\n",
    "        tI = np.linspace(tC, tH, SN)\n",
    "        nR, tI = np.meshgrid(nR, tI)\n",
    "        nI = (tT*nT-tF*(nF-nR))/tI\n",
    "        m = mask(nF, nR, tI, nI)\n",
    "        nR[np.where(m)] = np.nan\n",
    "        S.x = nR[0,:]\n",
    "        S.y = tI[:,0]\n",
    "        S.z = nI\n",
    "        # Embedding\n",
    "        nR = np.linspace(0, nF, EN)\n",
    "        nI = nT-nF+nR\n",
    "        tI = (tT*nT-tF*(nF-nR))/nI\n",
    "        m = mask(nF, nR, tI, nI)\n",
    "        nR[np.where(m)] = np.nan\n",
    "        E.x = nR\n",
    "        E.y = tI\n",
    "        E.z = nI\n",
    "        #! NOTE:\n",
    "        #! - These are the only values we need in the end\n",
    "        #! - Three non-coexisting solutions, optimizing for no removal, and then cold gas\n",
    "        # nR=0 point\n",
    "        nR = 0\n",
    "        tI = (tT*nT-tF*nF)/(nT-nF)\n",
    "        nI = nT-nF\n",
    "        point(A, nR, tI, nI)\n",
    "        # tI=tH point\n",
    "        tI = tH\n",
    "        nR = nF-(nT*(tT-tH))/(tF-tH)\n",
    "        nI = nT-nF+nR\n",
    "        point(B, nR, tI, nI)\n",
    "        # tI=tC point\n",
    "        tI = tC\n",
    "        nR = nF-(nT*(tT-tC))/(tF-tC) # this is completely fucked up somehow\n",
    "        nI = nT-nF+nR\n",
    "        point(C, nR, tI, nI, True)\n",
    "        \n",
    "layout = Layout(width='100%', margin='0 0 0 0')\n",
    "interact(update,\n",
    "        pF=FloatSlider(value=pF0, min=pMin, max=pMax, step=50, layout=layout),\n",
    "        tF=FloatSlider(value=tF0, min=tC,   max=tH,   step=10, layout=layout),\n",
    "        pT=FloatSlider(value=pT0, min=pMin, max=pMax, step=50, layout=layout),\n",
    "        tT=FloatSlider(value=tT0, min=tC,   max=tH,   step=10, layout=layout))\n",
    "\n",
    "fig"
   ]
  }
 ],
 "metadata": {
  "celltoolbar": "Raw Cell Format",
  "kernelspec": {
   "display_name": "Python 3",
   "language": "python",
   "name": "python3"
  },
  "language_info": {
   "codemirror_mode": {
    "name": "ipython",
    "version": 3
   },
   "file_extension": ".py",
   "mimetype": "text/x-python",
   "name": "python",
   "nbconvert_exporter": "python",
   "pygments_lexer": "ipython3",
   "version": "3.8.2"
  }
 },
 "nbformat": 4,
 "nbformat_minor": 4
}
